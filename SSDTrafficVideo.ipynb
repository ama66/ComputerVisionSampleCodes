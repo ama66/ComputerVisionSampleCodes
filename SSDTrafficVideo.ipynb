{
 "cells": [
  {
   "cell_type": "code",
   "execution_count": 2,
   "id": "d3b53c1a-42b6-47cd-ad92-3481a9a875e0",
   "metadata": {},
   "outputs": [],
   "source": [
    "import cv2\n",
    "import numpy as np"
   ]
  },
  {
   "cell_type": "code",
   "execution_count": 1,
   "id": "e7a89bb5-2271-4236-abd4-f9862dfc76af",
   "metadata": {},
   "outputs": [],
   "source": [
    "# we are not going to bother with objects less than 50% probability\n",
    "THRESHOLD = 0.5\n",
    "# the lower the value: the fewer bounding boxes will remain\n",
    "SUPPRESSION_THRESHOLD = 0.2\n",
    "SSD_INPUT_SIZE = 320"
   ]
  },
  {
   "cell_type": "code",
   "execution_count": 3,
   "id": "23cfebe3-dca0-407c-8c90-147e0b397d39",
   "metadata": {},
   "outputs": [],
   "source": [
    "# read the class labels\n",
    "def construct_class_names(file_name='class_names'):\n",
    "    with open(file_name, 'rt') as file:\n",
    "        names = file.read().rstrip('\\n').split('\\n')\n",
    "\n",
    "    return names\n",
    "\n",
    "\n",
    "def show_detected_objects(img, boxes_to_keep, all_bounding_boxes, object_names, class_ids):\n",
    "    for index in boxes_to_keep:\n",
    "        box = all_bounding_boxes[index[0]]\n",
    "\n",
    "        if class_ids[index[0]][0] != 10:\n",
    "            continue\n",
    "\n",
    "        x, y, w, h = box[0], box[1], box[2], box[3]\n",
    "        cv2.rectangle(img, (x, y), (x + w, y + h), color=(0, 255, 0), thickness=2)\n",
    "        cv2.putText(img, object_names[class_ids[index[0]][0] - 1].upper(), (box[0], box[1] - 10),\n",
    "                    cv2.FONT_HERSHEY_COMPLEX_SMALL, 0.7, (0, 255, 0), 1)\n",
    "\n",
    "\n"
   ]
  },
  {
   "cell_type": "code",
   "execution_count": 4,
   "id": "ae9b9f65-e07d-4cb9-be55-7f1b24e71dc3",
   "metadata": {},
   "outputs": [],
   "source": [
    "class_names = construct_class_names()\n",
    "\n",
    "capture = cv2.VideoCapture('traffic_signs.mp4')\n",
    "\n",
    "neural_network = cv2.dnn_DetectionModel('ssd_weights.pb', 'ssd_mobilenet_coco_cfg.pbtxt')\n",
    "# define whether we run the algorithm with CPU or with GPU\n",
    "# WE ARE GOING TO USE CPU !!!\n",
    "neural_network.setPreferableBackend(cv2.dnn.DNN_BACKEND_OPENCV)\n",
    "neural_network.setPreferableTarget(cv2.dnn.DNN_TARGET_CPU)\n",
    "neural_network.setInputSize(SSD_INPUT_SIZE, SSD_INPUT_SIZE)\n",
    "neural_network.setInputScale(1.0/127.5)\n",
    "neural_network.setInputMean((127.5, 127.5, 127.5))\n",
    "neural_network.setInputSwapRB(True)\n",
    "\n",
    "while True:\n",
    "\n",
    "    is_grabbed, frame = capture.read()\n",
    "\n",
    "    if not is_grabbed:\n",
    "        break\n",
    "\n",
    "    class_label_ids, confidences, bbox = neural_network.detect(frame)\n",
    "    \n",
    "    bbox = list(bbox)\n",
    "    \n",
    "    confidences = np.array(confidences).reshape(1, -1).tolist()[0]\n",
    "\n",
    "    # these are the indexes of the bounding boxes we have to keep\n",
    "    box_to_keep = cv2.dnn.NMSBoxes(bbox, confidences, THRESHOLD, SUPPRESSION_THRESHOLD)\n",
    "\n",
    "    show_detected_objects(frame, box_to_keep, bbox, class_names, class_label_ids)\n",
    "\n",
    "    cv2.imshow('SSD Algorithm', frame)\n",
    "    cv2.waitKey(1)\n",
    "\n",
    "capture.release()\n",
    "cv2.destroyAllWindows()"
   ]
  },
  {
   "cell_type": "code",
   "execution_count": 5,
   "id": "954c6531-8978-460e-a2f3-35c93fc32b8b",
   "metadata": {},
   "outputs": [
    {
     "data": {
      "text/plain": [
       "[array([334, 256,  99,  82], dtype=int32),\n",
       " array([464, 210, 174, 148], dtype=int32),\n",
       " array([ 69, 227, 246, 132], dtype=int32),\n",
       " array([272, 133,  14,  38], dtype=int32),\n",
       " array([ 74, 284,  30,  25], dtype=int32)]"
      ]
     },
     "execution_count": 5,
     "metadata": {},
     "output_type": "execute_result"
    }
   ],
   "source": [
    "bbox"
   ]
  },
  {
   "cell_type": "code",
   "execution_count": 10,
   "id": "2744eef4-7872-465b-90bc-ea8a9c635a49",
   "metadata": {},
   "outputs": [
    {
     "data": {
      "text/plain": [
       "[0.6956930160522461,\n",
       " 0.6385145783424377,\n",
       " 0.6056244373321533,\n",
       " 0.5308095216751099,\n",
       " 0.5261372327804565]"
      ]
     },
     "execution_count": 10,
     "metadata": {},
     "output_type": "execute_result"
    }
   ],
   "source": [
    "confidences\n"
   ]
  },
  {
   "cell_type": "code",
   "execution_count": null,
   "id": "cf67da41-fc05-4b28-88cb-fd7eacdc52c8",
   "metadata": {},
   "outputs": [],
   "source": []
  }
 ],
 "metadata": {
  "kernelspec": {
   "display_name": "Python 3",
   "language": "python",
   "name": "python3"
  },
  "language_info": {
   "codemirror_mode": {
    "name": "ipython",
    "version": 3
   },
   "file_extension": ".py",
   "mimetype": "text/x-python",
   "name": "python",
   "nbconvert_exporter": "python",
   "pygments_lexer": "ipython3",
   "version": "3.7.6"
  }
 },
 "nbformat": 4,
 "nbformat_minor": 5
}
